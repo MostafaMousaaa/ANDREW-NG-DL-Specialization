{
  "nbformat": 4,
  "nbformat_minor": 0,
  "metadata": {
    "colab": {
      "provenance": []
    },
    "kernelspec": {
      "name": "python3",
      "display_name": "Python 3"
    },
    "language_info": {
      "name": "python"
    }
  },
  "cells": [
    {
      "cell_type": "code",
      "execution_count": 1,
      "metadata": {
        "id": "BGlgEh6GWOHB"
      },
      "outputs": [],
      "source": [
        "import numpy as np\n"
      ]
    },
    {
      "cell_type": "code",
      "source": [
        "a = np.array([1,2,3,4])\n",
        "a"
      ],
      "metadata": {
        "colab": {
          "base_uri": "https://localhost:8080/"
        },
        "id": "ZCCrbrnyWTlh",
        "outputId": "92da4c35-788a-4424-ccb7-e438c2bbe6ee"
      },
      "execution_count": 2,
      "outputs": [
        {
          "output_type": "execute_result",
          "data": {
            "text/plain": [
              "array([1, 2, 3, 4])"
            ]
          },
          "metadata": {},
          "execution_count": 2
        }
      ]
    },
    {
      "cell_type": "code",
      "source": [
        "import time\n",
        "\n",
        "a = np.random.rand(1000000)\n",
        "b = np.random.rand(1000000)\n",
        "\n",
        "tic = time.time()\n",
        "c = np.dot(a,b)\n",
        "toc = time.time()\n",
        "\n",
        "print(\"Vectorized Version Time: \"+ str(1000*(toc-tic))+\" ms.\")\n",
        "print(c)"
      ],
      "metadata": {
        "colab": {
          "base_uri": "https://localhost:8080/"
        },
        "id": "KnGMX5NaWcz_",
        "outputId": "32b02799-0ef2-43d1-84b3-60ef58f8aaf5"
      },
      "execution_count": 21,
      "outputs": [
        {
          "output_type": "stream",
          "name": "stdout",
          "text": [
            "Vectorized Version Time: 1.4729499816894531 ms.\n",
            "250224.42960135662\n"
          ]
        }
      ]
    },
    {
      "cell_type": "code",
      "source": [
        "c=0\n",
        "\n",
        "tic = time.time()\n",
        "for i in range(1000000):\n",
        " c += a[i]*b[i]\n",
        "toc = time.time()\n",
        "\n",
        "print(\"FOR Version Time: \"+ str(1000*(toc-tic))+\" ms.\")\n",
        "print(c)"
      ],
      "metadata": {
        "colab": {
          "base_uri": "https://localhost:8080/"
        },
        "id": "siQUTHrHXSia",
        "outputId": "4ca5930c-a71f-4324-825a-61f66150cf4d"
      },
      "execution_count": 22,
      "outputs": [
        {
          "output_type": "stream",
          "name": "stdout",
          "text": [
            "FOR Version Time: 500.1513957977295 ms.\n",
            "250224.42960134757\n"
          ]
        }
      ]
    }
  ]
}